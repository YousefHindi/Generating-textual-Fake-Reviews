{
 "cells": [
  {
   "cell_type": "code",
   "execution_count": 10,
   "id": "9e687a52",
   "metadata": {},
   "outputs": [
    {
     "name": "stdout",
     "output_type": "stream",
     "text": [
      "File has been cleaned and saved as 'cleaned_fake_reviews_with_dates.csv'.\n"
     ]
    }
   ],
   "source": [
    "import pandas as pd\n",
    "\n",
    "# Load the CSV file into a DataFrame with an alternative encoding\n",
    "try:\n",
    "    df = pd.read_csv('fake_reviews_with_dates.csv', encoding='utf-8')\n",
    "except UnicodeDecodeError:\n",
    "    df = pd.read_csv('fake_reviews_with_dates.csv', encoding='cp1252')  # Commonly used in Windows\n",
    "\n",
    "# Check if the 'Comment' column exists to avoid KeyError\n",
    "if 'Comment' in df.columns:\n",
    "    # Remove quotation marks and commas from the 'Comment' column\n",
    "    df['Comment'] = df['Comment'].str.replace('\"', '', regex=False)  # Remove quotation marks\n",
    "    df['Comment'] = df['Comment'].str.replace(',', '', regex=False)  # Remove commas\n",
    "\n",
    "    # Save the cleaned DataFrame back to a new CSV file\n",
    "    df.to_csv('cleaned_fake_reviews_with_dates.csv', index=False)\n",
    "    print(\"File has been cleaned and saved as 'cleaned_fake_reviews_with_dates.csv'.\")\n",
    "else:\n",
    "    print(\"The column 'Comment' does not exist in the CSV file.\")\n"
   ]
  },
  {
   "cell_type": "code",
   "execution_count": null,
   "id": "bc5234d4",
   "metadata": {},
   "outputs": [],
   "source": []
  }
 ],
 "metadata": {
  "kernelspec": {
   "display_name": "Python 3 (ipykernel)",
   "language": "python",
   "name": "python3"
  },
  "language_info": {
   "codemirror_mode": {
    "name": "ipython",
    "version": 3
   },
   "file_extension": ".py",
   "mimetype": "text/x-python",
   "name": "python",
   "nbconvert_exporter": "python",
   "pygments_lexer": "ipython3",
   "version": "3.11.5"
  }
 },
 "nbformat": 4,
 "nbformat_minor": 5
}
