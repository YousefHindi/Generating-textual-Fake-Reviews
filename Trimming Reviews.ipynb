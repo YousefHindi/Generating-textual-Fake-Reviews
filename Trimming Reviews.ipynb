{
 "cells": [
  {
   "cell_type": "code",
   "execution_count": 2,
   "id": "6b2deb30",
   "metadata": {},
   "outputs": [],
   "source": [
    "import pandas as pd\n",
    "\n",
    "# Read the CSV file with a different encoding (e.g., latin1)\n",
    "df = pd.read_csv('fake_reviews_with_dates.csv', encoding='latin1')\n",
    "\n",
    "# Keep only the first 1000 rows\n",
    "df_subset = df.head(1000)\n",
    "\n",
    "# Save the modified data to the same CSV file (overwrite)\n",
    "df_subset.to_csv('fake_reviews_with_dates.csv', index=False)\n"
   ]
  },
  {
   "cell_type": "code",
   "execution_count": null,
   "id": "d6564417",
   "metadata": {},
   "outputs": [],
   "source": []
  }
 ],
 "metadata": {
  "kernelspec": {
   "display_name": "Python 3 (ipykernel)",
   "language": "python",
   "name": "python3"
  },
  "language_info": {
   "codemirror_mode": {
    "name": "ipython",
    "version": 3
   },
   "file_extension": ".py",
   "mimetype": "text/x-python",
   "name": "python",
   "nbconvert_exporter": "python",
   "pygments_lexer": "ipython3",
   "version": "3.11.5"
  }
 },
 "nbformat": 4,
 "nbformat_minor": 5
}
